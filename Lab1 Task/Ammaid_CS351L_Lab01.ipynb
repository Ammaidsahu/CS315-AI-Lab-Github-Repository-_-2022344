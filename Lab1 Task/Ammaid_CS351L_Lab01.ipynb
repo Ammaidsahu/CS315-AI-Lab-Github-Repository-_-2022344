{
  "nbformat": 4,
  "nbformat_minor": 0,
  "metadata": {
    "colab": {
      "provenance": []
    },
    "kernelspec": {
      "name": "python3",
      "display_name": "Python 3"
    },
    "language_info": {
      "name": "python"
    }
  },
  "cells": [
    {
      "cell_type": "markdown",
      "source": [
        "##1. AI Number Guessing Game Using BFS\n",
        "(Breadth-First Search)\n",
        "\n",
        "Breadth-First Search (BFS) explores all the possible states (or nodes) level by level. In this context, BFS would mean searching through all possible number ranges in a linear manner, where we iteratively divide the search space based on the player’s feedback. However, BFS is not particularly efficient for number guessing compared to binary search.\n",
        "BFS starts from the middle of the range and adjusts by queueing up the next range to explore, based on feedback. It explores each range one at a time, making it relatively slower.\n"
      ],
      "metadata": {
        "id": "SsAvafw6UDL8"
      }
    },
    {
      "cell_type": "code",
      "source": [
        "from collections import deque\n",
        "\n",
        "def bfs_number_guessing_game():\n",
        "    # Player selects a number\n",
        "    print(\"Think of a number between 1 and 100, and I (the AI) will try to guess it.\")\n",
        "    low = 1\n",
        "    high = 100\n",
        "    attempts = 0\n",
        "\n",
        "    # Queue for BFS, with (low, high) bounds\n",
        "    queue = deque([(low, high)])\n",
        "\n",
        "    while queue:\n",
        "        # Dequeue a range and attempt a guess in the middle\n",
        "        low, high = queue.popleft()\n",
        "        guess = (low + high) // 2\n",
        "        attempts += 1\n",
        "\n",
        "        print(f\"AI's guess is: {guess}\")\n",
        "        feedback = input(\"Enter 'h' if too high, 'l' if too low, or 'c' if correct: \").lower()\n",
        "\n",
        "        if feedback == 'c':\n",
        "            print(f\"I (AI) guessed the number in {attempts} attempts!\")\n",
        "            return\n",
        "        elif feedback == 'h':\n",
        "            if guess - 1 >= low:\n",
        "                queue.append((low, guess - 1))  # Add new lower range\n",
        "        elif feedback == 'l':\n",
        "            if guess + 1 <= high:\n",
        "                queue.append((guess + 1, high))  # Add new upper range\n",
        "\n",
        "    print(\"Something went wrong!\")\n",
        "\n",
        "# Call BFS version\n",
        "bfs_number_guessing_game()\n"
      ],
      "metadata": {
        "colab": {
          "base_uri": "https://localhost:8080/"
        },
        "id": "e8GysWN5UMXB",
        "outputId": "d97a0f52-3fc5-4a7a-bdb5-8efb77ab9656"
      },
      "execution_count": 1,
      "outputs": [
        {
          "output_type": "stream",
          "name": "stdout",
          "text": [
            "Think of a number between 1 and 100, and I (the AI) will try to guess it.\n",
            "AI's guess is: 50\n",
            "Enter 'h' if too high, 'l' if too low, or 'c' if correct: h\n",
            "AI's guess is: 25\n",
            "Enter 'h' if too high, 'l' if too low, or 'c' if correct: h\n",
            "AI's guess is: 12\n",
            "Enter 'h' if too high, 'l' if too low, or 'c' if correct: l\n",
            "AI's guess is: 18\n",
            "Enter 'h' if too high, 'l' if too low, or 'c' if correct: l\n",
            "AI's guess is: 21\n",
            "Enter 'h' if too high, 'l' if too low, or 'c' if correct: h\n",
            "AI's guess is: 19\n",
            "Enter 'h' if too high, 'l' if too low, or 'c' if correct: l\n",
            "AI's guess is: 20\n",
            "Enter 'h' if too high, 'l' if too low, or 'c' if correct: c\n",
            "I (AI) guessed the number in 7 attempts!\n"
          ]
        }
      ]
    },
    {
      "cell_type": "markdown",
      "source": [
        "##2. AI Number Guessing Game Using DFS (Depth-First Search)\n",
        "Depth-First Search (DFS) explores as deep as possible down one path before backtracking. In a number guessing game, DFS can be simulated by always making a choice (guess) and updating bounds recursively.DFS dives into one direction (either high or low) based on feedback and continues exploring until the correct guess is made. In a binary search setup like this, DFS can work efficiently."
      ],
      "metadata": {
        "id": "enXF9XJSWY1s"
      }
    },
    {
      "cell_type": "code",
      "source": [
        "def dfs_number_guessing_game(low=1, high=100, attempts=0):\n",
        "    if low > high:\n",
        "        print(\"Something went wrong!\")\n",
        "        return\n",
        "\n",
        "    # Guess the middle number\n",
        "    guess = (low + high) // 2\n",
        "    attempts += 1\n",
        "\n",
        "    print(f\"AI's guess is: {guess}\")\n",
        "    feedback = input(\"Enter 'h' if too high, 'l' if too low, or 'c' if correct: \").lower()\n",
        "\n",
        "    if feedback == 'c':\n",
        "        print(f\"I (AI) guessed the number in {attempts} attempts!\")\n",
        "        return\n",
        "    elif feedback == 'h':\n",
        "        # Recursively search the lower half\n",
        "        dfs_number_guessing_game(low, guess - 1, attempts)\n",
        "    elif feedback == 'l':\n",
        "        # Recursively search the upper half\n",
        "        dfs_number_guessing_game(guess + 1, high, attempts)\n",
        "\n",
        "# Call DFS version\n",
        "dfs_number_guessing_game()\n"
      ],
      "metadata": {
        "colab": {
          "base_uri": "https://localhost:8080/"
        },
        "id": "BhsorsX0Wghc",
        "outputId": "3a91bdd2-cbf7-4694-c32f-a71431dcdb62"
      },
      "execution_count": 2,
      "outputs": [
        {
          "output_type": "stream",
          "name": "stdout",
          "text": [
            "AI's guess is: 50\n",
            "Enter 'h' if too high, 'l' if too low, or 'c' if correct: h\n",
            "AI's guess is: 25\n",
            "Enter 'h' if too high, 'l' if too low, or 'c' if correct: h\n",
            "AI's guess is: 12\n",
            "Enter 'h' if too high, 'l' if too low, or 'c' if correct: h\n",
            "AI's guess is: 6\n",
            "Enter 'h' if too high, 'l' if too low, or 'c' if correct: l\n",
            "AI's guess is: 9\n",
            "Enter 'h' if too high, 'l' if too low, or 'c' if correct: l\n",
            "AI's guess is: 10\n",
            "Enter 'h' if too high, 'l' if too low, or 'c' if correct: c\n",
            "I (AI) guessed the number in 6 attempts!\n"
          ]
        }
      ]
    },
    {
      "cell_type": "markdown",
      "source": [
        "##3. AI Number Guessing Game Using a Genetic Algorithm\n",
        "A genetic algorithm (GA) is a heuristic search algorithm that mimics the process of natural selection. It starts with a population of possible solutions (guesses), and iteratively selects, crosses, and mutates solutions to find the best one. For a number guessing game, a genetic algorithm is overkill, but it’s an interesting way to approach the problem.\n",
        "Population: The algorithm maintains a set of random guesses.\n",
        "Selection: Based on feedback ('h' or 'l'), it discards guesses that are too far off and adjusts the population.\n",
        "Mutation: Every few rounds, it randomly changes some guesses to introduce diversity in the population.\n",
        "Convergence: Over iterations, the population of guesses gets closer to the correct number until it’s guessed."
      ],
      "metadata": {
        "id": "tA7kQtfnW9tV"
      }
    },
    {
      "cell_type": "code",
      "source": [
        "import random\n",
        "\n",
        "def genetic_algorithm_number_guessing_game():\n",
        "    print(\"Think of a number between 1 and 100, and I (the AI) will try to guess it.\")\n",
        "\n",
        "    population_size = 10  # Number of guesses in each generation\n",
        "    population = [random.randint(1, 100) for _ in range(population_size)]  # Initial random population\n",
        "    attempts = 0\n",
        "\n",
        "    while True:\n",
        "        # Evaluate fitness based on player's feedback\n",
        "        for guess in population:\n",
        "            attempts += 1\n",
        "            print(f\"AI's guess is: {guess}\")\n",
        "            feedback = input(\"Enter 'h' if too high, 'l' if too low, or 'c' if correct: \").lower()\n",
        "\n",
        "            if feedback == 'c':\n",
        "                print(f\"I (AI) guessed the number in {attempts} attempts!\")\n",
        "                return\n",
        "            elif feedback == 'h':\n",
        "                # Adjust guesses that were too high\n",
        "                population = [g if g < guess else random.randint(1, guess - 1) for g in population]\n",
        "            elif feedback == 'l':\n",
        "                # Adjust guesses that were too low\n",
        "                population = [g if g > guess else random.randint(guess + 1, 100) for g in population]\n",
        "\n",
        "        # Mutation step (randomly change some guesses)\n",
        "        if attempts % 5 == 0:\n",
        "            population = [random.randint(1, 100) if random.random() < 0.1 else g for g in population]\n",
        "\n",
        "# Call Genetic Algorithm version\n",
        "genetic_algorithm_number_guessing_game()\n"
      ],
      "metadata": {
        "colab": {
          "base_uri": "https://localhost:8080/"
        },
        "id": "Vws9cl7TXG5g",
        "outputId": "3e08aaa3-bb22-487b-dd70-459464b232ba"
      },
      "execution_count": 3,
      "outputs": [
        {
          "output_type": "stream",
          "name": "stdout",
          "text": [
            "Think of a number between 1 and 100, and I (the AI) will try to guess it.\n",
            "AI's guess is: 60\n",
            "Enter 'h' if too high, 'l' if too low, or 'c' if correct: h\n",
            "AI's guess is: 8\n",
            "Enter 'h' if too high, 'l' if too low, or 'c' if correct: l\n",
            "AI's guess is: 59\n",
            "Enter 'h' if too high, 'l' if too low, or 'c' if correct: h\n",
            "AI's guess is: 85\n",
            "Enter 'h' if too high, 'l' if too low, or 'c' if correct: h\n",
            "AI's guess is: 35\n",
            "Enter 'h' if too high, 'l' if too low, or 'c' if correct: l\n",
            "AI's guess is: 20\n",
            "Enter 'h' if too high, 'l' if too low, or 'c' if correct: l\n",
            "AI's guess is: 61\n",
            "Enter 'h' if too high, 'l' if too low, or 'c' if correct: h\n",
            "AI's guess is: 20\n",
            "Enter 'h' if too high, 'l' if too low, or 'c' if correct: l\n",
            "AI's guess is: 2\n",
            "Enter 'h' if too high, 'l' if too low, or 'c' if correct: l\n",
            "AI's guess is: 36\n",
            "Enter 'h' if too high, 'l' if too low, or 'c' if correct: l\n",
            "AI's guess is: 57\n",
            "Enter 'h' if too high, 'l' if too low, or 'c' if correct: h\n",
            "AI's guess is: 96\n",
            "Enter 'h' if too high, 'l' if too low, or 'c' if correct: h\n",
            "AI's guess is: 46\n",
            "Enter 'h' if too high, 'l' if too low, or 'c' if correct: l\n",
            "AI's guess is: 74\n",
            "Enter 'h' if too high, 'l' if too low, or 'c' if correct: h\n",
            "AI's guess is: 50\n",
            "Enter 'h' if too high, 'l' if too low, or 'c' if correct: c\n",
            "I (AI) guessed the number in 15 attempts!\n"
          ]
        }
      ]
    }
  ]
}